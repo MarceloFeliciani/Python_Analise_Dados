{
 "cells": [
  {
   "cell_type": "markdown",
   "metadata": {},
   "source": [
    "### Aula do Professor Felipe Mafra - UDEMY"
   ]
  },
  {
   "cell_type": "code",
   "execution_count": 1,
   "metadata": {
    "collapsed": true
   },
   "outputs": [],
   "source": [
    "\n",
    "#Crie um diretório no E:\\Projetos\\Python\\Pandas"
   ]
  },
  {
   "cell_type": "code",
   "execution_count": 1,
   "metadata": {},
   "outputs": [],
   "source": [
    "#Isto irá criar um arquivo. Quando um arquivo não existe, o parâmetro W cria o arquivo.\n",
    "arquivo = open('E:\\\\Projetos\\\\Python\\\\Pandas\\\\teste.txt','w')"
   ]
  },
  {
   "cell_type": "code",
   "execution_count": 2,
   "metadata": {},
   "outputs": [],
   "source": [
    "#Tente deletar o arquivo.\n",
    "#O arquivo não é apagado pois o Python está em poder do arquivo"
   ]
  },
  {
   "cell_type": "code",
   "execution_count": 3,
   "metadata": {},
   "outputs": [],
   "source": [
    "#Apos executar o comando abaixo, apague o arquivo\n",
    "\n",
    "arquivo.close()"
   ]
  },
  {
   "cell_type": "code",
   "execution_count": 9,
   "metadata": {
    "collapsed": true
   },
   "outputs": [],
   "source": [
    "#Crie novamente o arquivo\n",
    "\n",
    "arquivo = open('c:\\\\raw\\\\teste.txt','w')"
   ]
  },
  {
   "cell_type": "code",
   "execution_count": 10,
   "metadata": {},
   "outputs": [
    {
     "data": {
      "text/plain": [
       "25"
      ]
     },
     "execution_count": 10,
     "metadata": {},
     "output_type": "execute_result"
    }
   ],
   "source": [
    "#Escreva algo no arquivo\n",
    "\n",
    "arquivo.write('Alguma coisa escrita aqui')"
   ]
  },
  {
   "cell_type": "code",
   "execution_count": 13,
   "metadata": {
    "collapsed": true
   },
   "outputs": [],
   "source": [
    "#Feche o arquivo e verifique o conteudo escrito\n",
    "\n",
    "arquivo.close()"
   ]
  },
  {
   "cell_type": "code",
   "execution_count": 15,
   "metadata": {},
   "outputs": [
    {
     "data": {
      "text/plain": [
       "'Alguma coisa escrita aqui'"
      ]
     },
     "execution_count": 15,
     "metadata": {},
     "output_type": "execute_result"
    }
   ],
   "source": [
    "#Podemos abrir o arquivo em modo leitura e armazenar o conteudo em uma variável\n",
    "\n",
    "arquivo = open('c:\\\\raw\\\\teste.txt','r')\n",
    "\n",
    "conteudo = arquivo.read()\n",
    "\n",
    "conteudo"
   ]
  },
  {
   "cell_type": "code",
   "execution_count": 17,
   "metadata": {
    "collapsed": true
   },
   "outputs": [],
   "source": [
    "#Necessitamos fechar o arquivo\n",
    "\n",
    "arquivo.close()"
   ]
  },
  {
   "cell_type": "code",
   "execution_count": 21,
   "metadata": {
    "collapsed": true
   },
   "outputs": [],
   "source": [
    "#Vamos escrever uma nova linha\n",
    "\n",
    "arquivo = open('c:\\\\raw\\\\teste.txt','w')\n",
    "arquivo.write('Escrevendo uma nova linha')\n",
    "arquivo.close()"
   ]
  },
  {
   "cell_type": "code",
   "execution_count": 22,
   "metadata": {
    "collapsed": true
   },
   "outputs": [],
   "source": [
    "#Ao abrir o arquivo, vemos que a linha foi sobrescrita.\n",
    "#Como escrever uma nova linha então?\n",
    "#Como o modo A de APPEND\n",
    "\n",
    "arquivo = open('c:\\\\raw\\\\teste.txt','a')\n",
    "arquivo.write('\\nEscrevendo outra linha com append')\n",
    "arquivo.close()"
   ]
  },
  {
   "cell_type": "markdown",
   "metadata": {},
   "source": [
    "## O que aprendemos:\n",
    "    1 - Abrir o arquivo\n",
    "    2 - Ler ou escrever\n",
    "    3 - Fechar o arquivo\n",
    "    \n",
    "### Devemos indicar o caminho do arquivo caso contrário, ele será criado em nosso diretório de trabalho"
   ]
  },
  {
   "cell_type": "code",
   "execution_count": 23,
   "metadata": {
    "collapsed": true
   },
   "outputs": [],
   "source": [
    "#Podemos simplificar\n",
    "\n",
    "with open('c:\\\\raw\\\\teste.txt','w') as arq:\n",
    "    arq.write('Utilizando WITH')"
   ]
  },
  {
   "cell_type": "markdown",
   "metadata": {},
   "source": [
    "### Na próxima aula veremos como interagir com o sistema operacional"
   ]
  },
  {
   "cell_type": "code",
   "execution_count": null,
   "metadata": {
    "collapsed": true
   },
   "outputs": [],
   "source": []
  }
 ],
 "metadata": {
  "kernelspec": {
   "display_name": "Python 3",
   "language": "python",
   "name": "python3"
  },
  "language_info": {
   "codemirror_mode": {
    "name": "ipython",
    "version": 3
   },
   "file_extension": ".py",
   "mimetype": "text/x-python",
   "name": "python",
   "nbconvert_exporter": "python",
   "pygments_lexer": "ipython3",
   "version": "3.8.5"
  }
 },
 "nbformat": 4,
 "nbformat_minor": 2
}
